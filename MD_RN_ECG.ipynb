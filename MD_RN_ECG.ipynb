{
  "cells": [
    {
      "cell_type": "markdown",
      "metadata": {
        "id": "EPlj8brIa9cx"
      },
      "source": [
        "\n",
        "**PROJET MIT BIH :**\n",
        "\n",
        "        *   RUAN Jiek\n",
        "        *   TIBOUCHE Tanya\n",
        "        *   ELIDRISSI Yasmine\n",
        "        *   LE DEZ Guillaume\n",
        "        *   ALKARDO Ibrahim\n",
        "            "
      ]
    },
    {
      "cell_type": "markdown",
      "metadata": {
        "id": "a9C3ai0lcFAG"
      },
      "source": [
        "**Importation des bibliotheques nécessaires**"
      ]
    },
    {
      "cell_type": "code",
      "execution_count": 1,
      "metadata": {
        "id": "GvTlkBbS2_dx"
      },
      "outputs": [],
      "source": [
        "import pandas as pd\n",
        "import matplotlib.pyplot as plt\n",
        "import numpy as np\n",
        "import tqdm\n",
        "import os\n",
        "from sklearn.preprocessing import StandardScaler\n",
        "from keras.models import Sequential\n",
        "from keras.layers import LSTM, Dense, GRU\n",
        "from sklearn.model_selection import train_test_split\n",
        "from tensorflow.keras.metrics import Recall\n",
        "import keras.optimizers\n",
        "from tensorflow.keras.callbacks import ReduceLROnPlateau\n",
        "from tensorflow.keras.layers import Input, MultiHeadAttention, Dropout, LayerNormalization, Flatten\n",
        "from tensorflow.keras.models import Model\n",
        "import tensorflow.keras\n",
        "from sklearn.model_selection import train_test_split\n",
        "from tensorflow.keras.callbacks import EarlyStopping\n",
        "from tensorflow.keras.optimizers.schedules import ExponentialDecay\n",
        "from sklearn.metrics import accuracy_score, classification_report, confusion_matrix\n",
        "import seaborn as sns\n",
        "import matplotlib.pyplot as plt\n",
        "from sklearn.metrics import roc_curve, auc\n",
        "from sklearn.preprocessing import label_binarize\n",
        "\n",
        "from tensorflow.keras.layers import Input, LSTM, Dense, Permute, Multiply, Softmax, Lambda, Concatenate\n",
        "from tensorflow.keras.models import Model\n",
        "import tensorflow.keras.backend as K\n",
        "from tensorflow.keras.layers import Input, GRU, Dense, Softmax, Multiply, Lambda\n",
        "from tensorflow.keras.models import Model\n",
        "import tensorflow.keras.backend as K"
      ]
    },
    {
      "cell_type": "markdown",
      "metadata": {
        "id": "wL7yk_3DcWxZ"
      },
      "source": [
        "**Connexion DRIVE**\n"
      ]
    },
    {
      "cell_type": "code",
      "execution_count": 2,
      "metadata": {
        "id": "iwyR2VOi3hln",
        "colab": {
          "base_uri": "https://localhost:8080/"
        },
        "outputId": "13259527-6714-4cd1-c386-a1a8878f0360"
      },
      "outputs": [
        {
          "output_type": "stream",
          "name": "stdout",
          "text": [
            "Mounted at /content/drive\n"
          ]
        }
      ],
      "source": [
        "from google.colab import drive\n",
        "drive.mount('/content/drive',force_remount=True)"
      ]
    },
    {
      "cell_type": "markdown",
      "metadata": {
        "id": "9NonSrIWcbdk"
      },
      "source": [
        "**Connexion au répertoire**"
      ]
    },
    {
      "cell_type": "code",
      "execution_count": 3,
      "metadata": {
        "id": "GqGped2w3eee"
      },
      "outputs": [],
      "source": [
        "data_path = \"/content/drive/MyDrive/DIA3 2024-2025/Réseau de neurones/project_mit_bih\"\n",
        "os.chdir(data_path)\n",
        "#!ls \"/content/drive/MyDrive/DIA3 2024-2025/Réseau de neurones\""
      ]
    },
    {
      "cell_type": "markdown",
      "metadata": {
        "id": "57RSkRXzclnt"
      },
      "source": [
        "**Lecture du jeu de données :**\n",
        "\n",
        "  >Charge et nettoie le dataset MIT-BIH en remplissant les valeurs manquantes et en convertissant les labels au format entier."
      ]
    },
    {
      "cell_type": "code",
      "execution_count": 4,
      "metadata": {
        "id": "Nb4y1Jjd30TF"
      },
      "outputs": [],
      "source": [
        "def read_dataset(mit_bih_csv_path):\n",
        "\tdf = pd.read_csv(mit_bih_csv_path)\n",
        "\tdf.iloc[:, 187] = df.iloc[:, 187].fillna(0).astype('int64')\n",
        "\treturn df"
      ]
    },
    {
      "cell_type": "markdown",
      "metadata": {
        "id": "Q4oqYsP6dOe7"
      },
      "source": [
        "**Préparation des données ECG depuis un fichier Arduino :**\n",
        "\n",
        ">   Charge et normalise les données ECG d'Arduino, puis extrait un battement unique avec un remplissage de zéros.\n",
        "\n",
        "\n"
      ]
    },
    {
      "cell_type": "code",
      "execution_count": 5,
      "metadata": {
        "id": "uJcoPbWy4vL7"
      },
      "outputs": [],
      "source": [
        "def read_arduino_ecg_data(arduino_ecg_csv_path):\n",
        "\tecg = pd.read_csv(arduino_ecg_csv_path)['ECG Value'].values\n",
        "\tecg = (ecg - np.mean(ecg)) / np.std(ecg)\n",
        "\tone_beat = np.concatenate((ecg[180: 270], np.zeros(97)))\n",
        "\treturn one_beat"
      ]
    },
    {
      "cell_type": "markdown",
      "metadata": {
        "id": "a4Z666gNdiS8"
      },
      "source": [
        "**Visualisation de la distribution des labels d'arythmie :**\n",
        "\n",
        "\n",
        "> Affiche un graphique en secteurs pour visualiser la répartition des différentes classes d'arythmie dans les données.\n"
      ]
    },
    {
      "cell_type": "code",
      "execution_count": 6,
      "metadata": {
        "id": "rAZjviUI4xOd"
      },
      "outputs": [],
      "source": [
        "def show_labels_distribution(mit_bih_df):\n",
        "\t# Afficher la distribution des labels dans la colonne 187\n",
        "\tdistribution = mit_bih_df.iloc[:, 187].value_counts()\n",
        "\n",
        "\n",
        "\tplt.figure(figsize=(15, 6))\n",
        "\twedges, texts, autotexts = plt.pie(distribution, autopct='%1.1f%%', startangle=90, labels=None)\n",
        "\tplt.title(\"Distribution des labels d'arythmie\")\n",
        "\tplt.ylabel('')  # Pour ne pas afficher \"187\" comme étiquette de l'axe y\n",
        "\tplt.legend(\n",
        "\t    wedges,\n",
        "\t\t\t[label_mapping[idx] for idx in distribution.index],\n",
        "\t    title=\"Categories\",\n",
        "\t    loc=\"center left\",\n",
        "\t    bbox_to_anchor=(1, 0, 0.5, 1)  # Positionnement de la légende\n",
        "\t)\n",
        "\tplt.show()\n",
        "\t# Afficher le résultat\n",
        "\tprint(distribution)\n",
        "\treturn None\n"
      ]
    },
    {
      "cell_type": "markdown",
      "metadata": {
        "id": "-lmFRSKvdoQS"
      },
      "source": [
        "**Génération des valeurs X (ECG) et Y (labels) :**\n",
        "\n",
        "\n",
        "> Sépare les données en signaux ECG (X) et leurs labels correspondants (Y) sous forme de tableaux NumPy.\n",
        "\n",
        "\n"
      ]
    },
    {
      "cell_type": "code",
      "execution_count": 7,
      "metadata": {
        "id": "kKpar7lp4y3D"
      },
      "outputs": [],
      "source": [
        "def generate_x_y_values(mit_bih_df):\n",
        "\tecgs, arythmies_labels = [], []\n",
        "\tfor _, row in tqdm.tqdm(mit_bih_df.iterrows(), total=len(mit_bih_df)):\n",
        "\t\tecgs.append(row.iloc[0 : 187])\n",
        "\t\tarythmies_labels.append(int(row.iloc[187]))\n",
        "\n",
        "\treturn np.array(ecgs), np.array(arythmies_labels)\n"
      ]
    },
    {
      "cell_type": "markdown",
      "metadata": {
        "id": "pc7dChikmskk"
      },
      "source": [
        "**Génération des valeurs X (ECG) et Y (labels) en utilisant 2 classes seulements :**\n",
        "\n",
        "\n",
        "> Sépare les données en signaux ECG (X) et leurs labels correspondants (Y) sous forme de tableaux NumPy.\n",
        "\n",
        "\n"
      ]
    },
    {
      "cell_type": "code",
      "execution_count": null,
      "metadata": {
        "id": "McJrQR17msrC"
      },
      "outputs": [],
      "source": [
        "def generate_x_y_values_with_2_classes(mit_bih_df):\n",
        "  ecgs, arythmies_labels = [], []\n",
        "  for _, row in tqdm.tqdm(mit_bih_df.iterrows(), total=len(mit_bih_df)):\n",
        "    ecgs.append(row.iloc[0 : 187].values)\n",
        "    if int(row.iloc[187]) == 0:\n",
        "      arythmies_labels.append(0)\n",
        "    else:\n",
        "      arythmies_labels.append(1)\n",
        "\n",
        "  return np.array(ecgs), np.array(arythmies_labels)"
      ]
    },
    {
      "cell_type": "markdown",
      "metadata": {
        "id": "kuGKOMKldvdZ"
      },
      "source": [
        "**Comptage des échantillons par classe :**\n",
        "\n",
        "> Compte et affiche le nombre d'échantillons disponibles pour chaque classe dans le dataset.\n",
        "> Regrouper les classes de 1 à 4 en une classe malade qui est égale à 1\n",
        "\n",
        "\n"
      ]
    },
    {
      "cell_type": "code",
      "execution_count": 8,
      "metadata": {
        "id": "nVO12o9e66tK"
      },
      "outputs": [],
      "source": [
        "mit_bih_csv_path=\"./mitbih_train.csv\"\n",
        "mit_bih_df = read_dataset(mit_bih_csv_path)\n",
        "\n",
        "\n",
        "mit_bih_csv_path_test=\"./mitbih_test.csv\"\n",
        "mit_bih_df_test = read_dataset(mit_bih_csv_path_test)\n",
        "\n",
        "\n",
        "random_seed = 42\n",
        "\n",
        "mit_bih_df = mit_bih_df.sample(frac=1, random_state=random_seed).reset_index(drop=True)\n",
        "mit_bih_df_test = mit_bih_df_test.sample(frac=1, random_state=random_seed).reset_index(drop=True)\n",
        "\n",
        "#mit_bih_df.replace({2: 1, 3: 1, 4: 1}, inplace=True) Pour regrouper les classes dans le cas ou nous souhaitons faire que deux classes\n",
        "#mit_bih_df_test.replace({2: 1, 3: 1, 4: 1}, inplace=True)\n"
      ]
    },
    {
      "cell_type": "markdown",
      "metadata": {
        "id": "enTqaie-d0jV"
      },
      "source": [
        "**Équilibrage des classes avec du bruit gaussien :**\n",
        "\n",
        "\n",
        "> Équilibre les classes du dataset en ajoutant du bruit gaussien aux classes sous-représentées.\n",
        "\n"
      ]
    },
    {
      "cell_type": "code",
      "execution_count": 9,
      "metadata": {
        "colab": {
          "base_uri": "https://localhost:8080/"
        },
        "id": "NDvqD4sF7PQp",
        "outputId": "d45b4fa5-cf2e-4e26-9fe2-4305a5523e74"
      },
      "outputs": [
        {
          "output_type": "stream",
          "name": "stdout",
          "text": [
            "Nombre de lignes par classe :\n",
            "0.000000000000000000e+00.88\n",
            "0.0    72470\n",
            "4.0     6431\n",
            "2.0     5788\n",
            "1.0     2223\n",
            "3.0      641\n",
            "Name: count, dtype: int64\n",
            "0.000000000000000000e+00.88\n",
            "0.0    72470\n",
            "4.0    72470\n",
            "1.0    72470\n",
            "2.0    72470\n",
            "3.0    72470\n",
            "Name: count, dtype: int64\n"
          ]
        }
      ],
      "source": [
        "def count_rows_by_class(mit_bih_df):\n",
        "    class_counts = mit_bih_df.iloc[:, -1].value_counts()\n",
        "\n",
        "    print(\"Nombre de lignes par classe :\")\n",
        "    print(class_counts)\n",
        "\n",
        "    return class_counts\n",
        "count_rows_by_class(mit_bih_df)\n",
        "\n",
        "def balance_classes_with_gaussian_noise(df, target_column):\n",
        "    classes = df[target_column].unique()\n",
        "    max_class_count = df[target_column].value_counts().max()\n",
        "\n",
        "    balanced_data = []\n",
        "\n",
        "    for class_label in classes:\n",
        "        class_data = df[df[target_column] == class_label]\n",
        "        class_count = len(class_data)\n",
        "\n",
        "        if class_count == max_class_count:\n",
        "            balanced_data.append(class_data)\n",
        "        else:\n",
        "            rows_to_add = max_class_count - class_count\n",
        "\n",
        "            sampled_data = class_data.sample(n=rows_to_add, replace=True, random_state=42)\n",
        "\n",
        "            signal_columns = df.columns[:-1]\n",
        "            noise = np.random.normal(0, 0.01, size=(rows_to_add, len(signal_columns)))  # Bruit gaussien\n",
        "            noisy_data = sampled_data.copy()\n",
        "            noisy_data[signal_columns] += noise\n",
        "\n",
        "            balanced_data.append(pd.concat([class_data, noisy_data]))\n",
        "\n",
        "    balanced_df = pd.concat(balanced_data).reset_index(drop=True)\n",
        "    return balanced_df\n",
        "\n",
        "\n",
        "target_column = mit_bih_df.columns[-1]\n",
        "target_column2 = mit_bih_df_test.columns[-1]\n",
        "\n",
        "mit_bih_df = balance_classes_with_gaussian_noise(mit_bih_df, target_column)\n",
        "mit_bih_df_test = balance_classes_with_gaussian_noise(mit_bih_df_test, target_column2)\n",
        "\n",
        "print(mit_bih_df[target_column].value_counts())\n",
        "\n"
      ]
    },
    {
      "cell_type": "markdown",
      "metadata": {
        "id": "tH-o1m2ehOtb"
      },
      "source": [
        "**Enlever les valeurs nul à la fin de chaque signal:**\n",
        "\n",
        "> Utiliser des tensorflow ragged pour stocker les signaux sans les zéros\n",
        "\n"
      ]
    },
    {
      "cell_type": "code",
      "execution_count": null,
      "metadata": {
        "colab": {
          "base_uri": "https://localhost:8080/",
          "height": 108
        },
        "id": "iBG36ioS784-",
        "outputId": "ca22e426-e338-4b55-b568-a64a9bffb6b9"
      },
      "outputs": [
        {
          "output_type": "error",
          "ename": "IndentationError",
          "evalue": "unindent does not match any outer indentation level (<tokenize>, line 14)",
          "traceback": [
            "\u001b[0;36m  File \u001b[0;32m\"<tokenize>\"\u001b[0;36m, line \u001b[0;32m14\u001b[0m\n\u001b[0;31m    ecg_array = ecg_data.iloc[:, :-1].to_numpy()\u001b[0m\n\u001b[0m    ^\u001b[0m\n\u001b[0;31mIndentationError\u001b[0m\u001b[0;31m:\u001b[0m unindent does not match any outer indentation level\n"
          ]
        }
      ],
      "source": [
        "import tensorflow as tf\n",
        "import numpy as np\n",
        "\n",
        "def remove_trailing_zeros_ragged(ecg_data):\n",
        "    \"\"\"\n",
        "    Convertit les signaux ECG en RaggedTensor, en supprimant les zéros en fin de séquence.\n",
        "\n",
        "    Arguments :\n",
        "    - ecg_data : DataFrame contenant les signaux ECG (chaque ligne est un signal).\n",
        "\n",
        "    Retour :\n",
        "    - RaggedTensor représentant les signaux nettoyés.\n",
        "    \"\"\"\n",
        "  ecg_array = ecg_data.iloc[:, :-1].to_numpy()\n",
        "\n",
        "    cleaned_signals = []\n",
        "\n",
        "    for signal in ecg_array:\n",
        "        non_zero_indices = np.where(signal != 0)[0]\n",
        "        if len(non_zero_indices) > 0:\n",
        "            last_non_zero_index = non_zero_indices[-1]\n",
        "            cleaned_signals.append(signal[:last_non_zero_index + 1])\n",
        "        else:\n",
        "            cleaned_signals.append([])\n",
        "\n",
        "    ragged_tensor = tf.ragged.constant(cleaned_signals)\n",
        "    return ragged_tensor\n",
        "\n",
        "\n",
        "\n",
        "mit_bih_df=remove_trailing_zeros_ragged(mit_bih_df)\n",
        "\n",
        "print(\"Exemple de RaggedTensor :\"\n",
        "print(mit_bih_df)\n"
      ]
    },
    {
      "cell_type": "markdown",
      "metadata": {
        "id": "ceUfNMhzi-KR"
      },
      "source": [
        "**Afficher un signal avant et après avoir enlever les zéros**"
      ]
    },
    {
      "cell_type": "code",
      "execution_count": null,
      "metadata": {
        "colab": {
          "base_uri": "https://localhost:8080/",
          "height": 313
        },
        "id": "HXl9bdTV8klb",
        "outputId": "ca2c0985-818b-43fd-d39b-1f20a4f4180f"
      },
      "outputs": [
        {
          "ename": "AttributeError",
          "evalue": "'RaggedTensor' object has no attribute 'iloc'",
          "output_type": "error",
          "traceback": [
            "\u001b[0;31m---------------------------------------------------------------------------\u001b[0m",
            "\u001b[0;31mAttributeError\u001b[0m                            Traceback (most recent call last)",
            "\u001b[0;32m<ipython-input-15-5416f0dc352a>\u001b[0m in \u001b[0;36m<cell line: 39>\u001b[0;34m()\u001b[0m\n\u001b[1;32m     37\u001b[0m \u001b[0;34m\u001b[0m\u001b[0m\n\u001b[1;32m     38\u001b[0m \u001b[0msample_index\u001b[0m \u001b[0;34m=\u001b[0m \u001b[0;36m0\u001b[0m  \u001b[0;31m# Modifier l'index pour tester différents signaux\u001b[0m\u001b[0;34m\u001b[0m\u001b[0;34m\u001b[0m\u001b[0m\n\u001b[0;32m---> 39\u001b[0;31m \u001b[0mplot_ragged_tensor\u001b[0m\u001b[0;34m(\u001b[0m\u001b[0mragged_ecg\u001b[0m\u001b[0;34m,\u001b[0m \u001b[0mmit_bih_df\u001b[0m\u001b[0;34m,\u001b[0m \u001b[0msample_index\u001b[0m\u001b[0;34m)\u001b[0m\u001b[0;34m\u001b[0m\u001b[0;34m\u001b[0m\u001b[0m\n\u001b[0m",
            "\u001b[0;32m<ipython-input-15-5416f0dc352a>\u001b[0m in \u001b[0;36mplot_ragged_tensor\u001b[0;34m(ragged_tensor, original_data, sample_index)\u001b[0m\n\u001b[1;32m     10\u001b[0m     \u001b[0;34m-\u001b[0m \u001b[0msample_index\u001b[0m \u001b[0;34m:\u001b[0m \u001b[0mIndex\u001b[0m \u001b[0mdu\u001b[0m \u001b[0msignal\u001b[0m \u001b[0mà\u001b[0m \u001b[0mafficher\u001b[0m\u001b[0;34m.\u001b[0m\u001b[0;34m\u001b[0m\u001b[0;34m\u001b[0m\u001b[0m\n\u001b[1;32m     11\u001b[0m     \"\"\"\n\u001b[0;32m---> 12\u001b[0;31m     \u001b[0moriginal_signal\u001b[0m \u001b[0;34m=\u001b[0m \u001b[0moriginal_data\u001b[0m\u001b[0;34m.\u001b[0m\u001b[0miloc\u001b[0m\u001b[0;34m[\u001b[0m\u001b[0msample_index\u001b[0m\u001b[0;34m,\u001b[0m \u001b[0;34m:\u001b[0m\u001b[0;34m-\u001b[0m\u001b[0;36m1\u001b[0m\u001b[0;34m]\u001b[0m\u001b[0;34m.\u001b[0m\u001b[0mvalues\u001b[0m\u001b[0;34m\u001b[0m\u001b[0;34m\u001b[0m\u001b[0m\n\u001b[0m\u001b[1;32m     13\u001b[0m \u001b[0;34m\u001b[0m\u001b[0m\n\u001b[1;32m     14\u001b[0m     \u001b[0mcleaned_signal\u001b[0m \u001b[0;34m=\u001b[0m \u001b[0mragged_tensor\u001b[0m\u001b[0;34m[\u001b[0m\u001b[0msample_index\u001b[0m\u001b[0;34m]\u001b[0m\u001b[0;34m.\u001b[0m\u001b[0mnumpy\u001b[0m\u001b[0;34m(\u001b[0m\u001b[0;34m)\u001b[0m\u001b[0;34m\u001b[0m\u001b[0;34m\u001b[0m\u001b[0m\n",
            "\u001b[0;31mAttributeError\u001b[0m: 'RaggedTensor' object has no attribute 'iloc'"
          ]
        }
      ],
      "source": [
        "import matplotlib.pyplot as plt\n",
        "\n",
        "def plot_ragged_tensor(ragged_tensor, original_data, sample_index):\n",
        "    original_signal = original_data.iloc[sample_index, :-1].values\n",
        "\n",
        "    cleaned_signal = ragged_tensor[sample_index].numpy()\n",
        "\n",
        "    plt.figure(figsize=(12, 6))\n",
        "\n",
        "    plt.subplot(1, 2, 1)\n",
        "    plt.plot(original_signal, label=\"\")\n",
        "    plt.title(\"\")\n",
        "    plt.xlabel(\"samples\")\n",
        "    plt.ylabel(\"Amplitude\")\n",
        "    plt.legend()\n",
        "    plt.grid(True)\n",
        "\n",
        "    plt.subplot(1, 2, 2)\n",
        "    plt.plot(cleaned_signal, color='orange')\n",
        "    plt.title(\"\")\n",
        "    plt.xlabel(\"samples\")\n",
        "    plt.ylabel(\"Amplitude\")\n",
        "    plt.legend()\n",
        "    plt.grid(True)\n",
        "\n",
        "    plt.suptitle(\"ECG Signal Comparison\", fontsize=16)\n",
        "    plt.tight_layout()\n",
        "    plt.show()\n",
        "\n",
        "sample_index = 0  # Modifier l'index pour tester différents signaux\n",
        "plot_ragged_tensor(ragged_ecg, mit_bih_df, sample_index)\n"
      ]
    },
    {
      "cell_type": "markdown",
      "metadata": {
        "id": "RUW4A1tFeDQq"
      },
      "source": [
        "**Préparation des données pour l'entraînement :**\n",
        "\n",
        "\n",
        "> Transforme et normalise les données en entrées pour les modèles d'apprentissage automatique.\n",
        "\n"
      ]
    },
    {
      "cell_type": "code",
      "execution_count": 10,
      "metadata": {
        "colab": {
          "base_uri": "https://localhost:8080/"
        },
        "id": "BGqU29TP7GtP",
        "outputId": "2c6ce43f-ab6a-4ea7-e798-50da60beb9b1"
      },
      "outputs": [
        {
          "output_type": "stream",
          "name": "stderr",
          "text": [
            "100%|██████████| 362350/362350 [00:37<00:00, 9611.01it/s] \n",
            "100%|██████████| 90585/90585 [00:07<00:00, 11918.54it/s]\n"
          ]
        }
      ],
      "source": [
        "#ecgs, arythmies_labels = generate_x_y_values_with_2_classes(mit_bih_df) dans le cas ou nous souhaitons faire deux classes\n",
        "#ecgs_test, arythmies_labels_test = generate_x_y_values_with_2_classes(mit_bih_df_test)\n",
        "\n",
        "ecgs, arythmies_labels = generate_x_y_values(mit_bih_df)\n",
        "ecgs_test, arythmies_labels_test = generate_x_y_values(mit_bih_df_test)\n",
        "\n"
      ]
    },
    {
      "cell_type": "code",
      "execution_count": 11,
      "metadata": {
        "id": "WI4XXpN6VLk4"
      },
      "outputs": [],
      "source": [
        "X_train = ecgs\n",
        "y_train = arythmies_labels\n",
        "\n",
        "X_test = ecgs_test\n",
        "y_test = arythmies_labels_test\n",
        "\n",
        "\n",
        "\n",
        "min_samples = min(len(X_train), len(y_train))\n",
        "X_train = X_train[:min_samples]\n",
        "y_train = y_train[:min_samples]\n",
        "\n",
        "min_samples = min(len(X_test), len(y_test))\n",
        "X_test = X_test[:min_samples]\n",
        "y_test = y_test[:min_samples]\n",
        "\n",
        "scaler = StandardScaler()\n",
        "X_train_scaled = scaler.fit_transform(X_train)\n",
        "X_test_scaled = scaler.transform(X_test)\n",
        "\n",
        "X_train_scaled = X_train_scaled.reshape((X_train_scaled.shape[0], X_train_scaled.shape[1], 1))\n",
        "X_test_scaled = X_test_scaled.reshape((X_test_scaled.shape[0], X_test_scaled.shape[1], 1))\n",
        "\n"
      ]
    },
    {
      "cell_type": "markdown",
      "metadata": {
        "id": "u4bcNUi1eQ7I"
      },
      "source": [
        "**Construction et entraînement du modèle LSTM :**\n",
        "\n",
        "\n",
        "> Modèle LSTM pour classer les arythmies à partir des données ECG, basé sur une architecture séquentielle.\n",
        "\n",
        "\n",
        "\n"
      ]
    },
    {
      "cell_type": "code",
      "execution_count": null,
      "metadata": {
        "id": "lualLIC_YdvJ"
      },
      "outputs": [],
      "source": [
        "#LSTM\n",
        "model = Sequential(\n",
        "    [\n",
        "        LSTM(100, activation=\"tanh\", recurrent_activation=\"sigmoid\"),  # Encodeur\n",
        "        Dense(5, activation=\"softmax\")  # Classifieur\n",
        "    ]\n",
        ")\n"
      ]
    },
    {
      "cell_type": "markdown",
      "metadata": {
        "id": "TJHCwEkWeW1B"
      },
      "source": [
        "**Construction et entraînement du modèle GRU :**\n",
        "\n",
        "> Modèle GRU (Gated Recurrent Unit) pour classer les arythmies, optimisé pour capturer les séquences temporelles.\n",
        "\n"
      ]
    },
    {
      "cell_type": "code",
      "execution_count": null,
      "metadata": {
        "id": "agJZPPM46AYq"
      },
      "outputs": [],
      "source": [
        "#GRU\n",
        "model = Sequential(\n",
        "    [\n",
        "        GRU(100, activation=\"tanh\", recurrent_activation=\"sigmoid\", input_shape=(X_train_scaled.shape[1], 1)),\n",
        "        Dense(5, activation=\"softmax\")  # Classifieur\n",
        "    ]\n",
        ")\n",
        "\n"
      ]
    },
    {
      "cell_type": "markdown",
      "metadata": {
        "id": "kKYf8SIOe4a6"
      },
      "source": [
        "**Compilation du modèle avec l'optimiseur Adam et la fonction de perte catégorielle:**\n",
        "\n",
        "\n",
        "> Cette ligne configure le modèle pour l'entraînement avec un optimiseur Adam, une perte catégorielle sparse, et la métrique de précision.\n",
        "\n"
      ]
    },
    {
      "cell_type": "code",
      "execution_count": null,
      "metadata": {
        "id": "KDY0cbiJd-HX"
      },
      "outputs": [],
      "source": [
        "model.compile(optimizer=keras.optimizers.Adam(learning_rate=0.0001), loss=\"sparse_categorical_crossentropy\", metrics=[\"accuracy\"])"
      ]
    },
    {
      "cell_type": "markdown",
      "metadata": {
        "id": "CvOCbU_Qe3wv"
      },
      "source": [
        "**Résumé de l'architecture du modèle:**\n",
        "\n",
        "> Affiche un aperçu détaillé des couches, du nombre de paramètres, et de la structure du modèle.\n",
        "\n",
        "\n"
      ]
    },
    {
      "cell_type": "code",
      "execution_count": null,
      "metadata": {
        "colab": {
          "base_uri": "https://localhost:8080/",
          "height": 221
        },
        "id": "-wWz39NHFPEB",
        "outputId": "706c99ee-40c2-46df-a61a-de38bd731156"
      },
      "outputs": [
        {
          "data": {
            "text/html": [
              "<pre style=\"white-space:pre;overflow-x:auto;line-height:normal;font-family:Menlo,'DejaVu Sans Mono',consolas,'Courier New',monospace\"><span style=\"font-weight: bold\">Model: \"sequential_7\"</span>\n",
              "</pre>\n"
            ],
            "text/plain": [
              "\u001b[1mModel: \"sequential_7\"\u001b[0m\n"
            ]
          },
          "metadata": {},
          "output_type": "display_data"
        },
        {
          "data": {
            "text/html": [
              "<pre style=\"white-space:pre;overflow-x:auto;line-height:normal;font-family:Menlo,'DejaVu Sans Mono',consolas,'Courier New',monospace\">┏━━━━━━━━━━━━━━━━━━━━━━━━━━━━━━━━━━━━━━┳━━━━━━━━━━━━━━━━━━━━━━━━━━━━━┳━━━━━━━━━━━━━━━━━┓\n",
              "┃<span style=\"font-weight: bold\"> Layer (type)                         </span>┃<span style=\"font-weight: bold\"> Output Shape                </span>┃<span style=\"font-weight: bold\">         Param # </span>┃\n",
              "┡━━━━━━━━━━━━━━━━━━━━━━━━━━━━━━━━━━━━━━╇━━━━━━━━━━━━━━━━━━━━━━━━━━━━━╇━━━━━━━━━━━━━━━━━┩\n",
              "│ lstm_7 (<span style=\"color: #0087ff; text-decoration-color: #0087ff\">LSTM</span>)                        │ (<span style=\"color: #00d7ff; text-decoration-color: #00d7ff\">None</span>, <span style=\"color: #00af00; text-decoration-color: #00af00\">100</span>)                 │          <span style=\"color: #00af00; text-decoration-color: #00af00\">40,800</span> │\n",
              "├──────────────────────────────────────┼─────────────────────────────┼─────────────────┤\n",
              "│ dense_7 (<span style=\"color: #0087ff; text-decoration-color: #0087ff\">Dense</span>)                      │ (<span style=\"color: #00d7ff; text-decoration-color: #00d7ff\">None</span>, <span style=\"color: #00af00; text-decoration-color: #00af00\">5</span>)                   │             <span style=\"color: #00af00; text-decoration-color: #00af00\">505</span> │\n",
              "└──────────────────────────────────────┴─────────────────────────────┴─────────────────┘\n",
              "</pre>\n"
            ],
            "text/plain": [
              "┏━━━━━━━━━━━━━━━━━━━━━━━━━━━━━━━━━━━━━━┳━━━━━━━━━━━━━━━━━━━━━━━━━━━━━┳━━━━━━━━━━━━━━━━━┓\n",
              "┃\u001b[1m \u001b[0m\u001b[1mLayer (type)                        \u001b[0m\u001b[1m \u001b[0m┃\u001b[1m \u001b[0m\u001b[1mOutput Shape               \u001b[0m\u001b[1m \u001b[0m┃\u001b[1m \u001b[0m\u001b[1m        Param #\u001b[0m\u001b[1m \u001b[0m┃\n",
              "┡━━━━━━━━━━━━━━━━━━━━━━━━━━━━━━━━━━━━━━╇━━━━━━━━━━━━━━━━━━━━━━━━━━━━━╇━━━━━━━━━━━━━━━━━┩\n",
              "│ lstm_7 (\u001b[38;5;33mLSTM\u001b[0m)                        │ (\u001b[38;5;45mNone\u001b[0m, \u001b[38;5;34m100\u001b[0m)                 │          \u001b[38;5;34m40,800\u001b[0m │\n",
              "├──────────────────────────────────────┼─────────────────────────────┼─────────────────┤\n",
              "│ dense_7 (\u001b[38;5;33mDense\u001b[0m)                      │ (\u001b[38;5;45mNone\u001b[0m, \u001b[38;5;34m5\u001b[0m)                   │             \u001b[38;5;34m505\u001b[0m │\n",
              "└──────────────────────────────────────┴─────────────────────────────┴─────────────────┘\n"
            ]
          },
          "metadata": {},
          "output_type": "display_data"
        },
        {
          "data": {
            "text/html": [
              "<pre style=\"white-space:pre;overflow-x:auto;line-height:normal;font-family:Menlo,'DejaVu Sans Mono',consolas,'Courier New',monospace\"><span style=\"font-weight: bold\"> Total params: </span><span style=\"color: #00af00; text-decoration-color: #00af00\">123,917</span> (484.05 KB)\n",
              "</pre>\n"
            ],
            "text/plain": [
              "\u001b[1m Total params: \u001b[0m\u001b[38;5;34m123,917\u001b[0m (484.05 KB)\n"
            ]
          },
          "metadata": {},
          "output_type": "display_data"
        },
        {
          "data": {
            "text/html": [
              "<pre style=\"white-space:pre;overflow-x:auto;line-height:normal;font-family:Menlo,'DejaVu Sans Mono',consolas,'Courier New',monospace\"><span style=\"font-weight: bold\"> Trainable params: </span><span style=\"color: #00af00; text-decoration-color: #00af00\">41,305</span> (161.35 KB)\n",
              "</pre>\n"
            ],
            "text/plain": [
              "\u001b[1m Trainable params: \u001b[0m\u001b[38;5;34m41,305\u001b[0m (161.35 KB)\n"
            ]
          },
          "metadata": {},
          "output_type": "display_data"
        },
        {
          "data": {
            "text/html": [
              "<pre style=\"white-space:pre;overflow-x:auto;line-height:normal;font-family:Menlo,'DejaVu Sans Mono',consolas,'Courier New',monospace\"><span style=\"font-weight: bold\"> Non-trainable params: </span><span style=\"color: #00af00; text-decoration-color: #00af00\">0</span> (0.00 B)\n",
              "</pre>\n"
            ],
            "text/plain": [
              "\u001b[1m Non-trainable params: \u001b[0m\u001b[38;5;34m0\u001b[0m (0.00 B)\n"
            ]
          },
          "metadata": {},
          "output_type": "display_data"
        },
        {
          "data": {
            "text/html": [
              "<pre style=\"white-space:pre;overflow-x:auto;line-height:normal;font-family:Menlo,'DejaVu Sans Mono',consolas,'Courier New',monospace\"><span style=\"font-weight: bold\"> Optimizer params: </span><span style=\"color: #00af00; text-decoration-color: #00af00\">82,612</span> (322.71 KB)\n",
              "</pre>\n"
            ],
            "text/plain": [
              "\u001b[1m Optimizer params: \u001b[0m\u001b[38;5;34m82,612\u001b[0m (322.71 KB)\n"
            ]
          },
          "metadata": {},
          "output_type": "display_data"
        }
      ],
      "source": [
        "model.summary()"
      ]
    },
    {
      "cell_type": "markdown",
      "metadata": {
        "id": "qhvaf2_dfQMI"
      },
      "source": [
        "**Entraînement du modèle avec EarlyStopping:**\n",
        "\n",
        "> Lance l'entraînement du modèle avec arrêt anticipé lorsque la perte ne s'améliore plus après un certain nombre d'époques.\n",
        "\n"
      ]
    },
    {
      "cell_type": "code",
      "execution_count": null,
      "metadata": {
        "colab": {
          "base_uri": "https://localhost:8080/"
        },
        "id": "Ljbu0AYneDuQ",
        "outputId": "909904b6-7298-4c6d-d9e0-9c9ed4198c1b"
      },
      "outputs": [
        {
          "name": "stdout",
          "output_type": "stream",
          "text": [
            "Epoch 1/30\n",
            "2407/2407 - 32s - 13ms/step - accuracy: 0.7632 - loss: 0.5902 - val_accuracy: 1.0000 - val_loss: 0.3610\n",
            "Epoch 2/30\n",
            "2407/2407 - 27s - 11ms/step - accuracy: 0.7890 - loss: 0.4570 - val_accuracy: 0.8689 - val_loss: 0.4137\n",
            "Epoch 3/30\n",
            "2407/2407 - 41s - 17ms/step - accuracy: 0.8011 - loss: 0.4195 - val_accuracy: 0.9228 - val_loss: 0.4140\n",
            "Epoch 4/30\n",
            "2407/2407 - 42s - 17ms/step - accuracy: 0.8572 - loss: 0.3323 - val_accuracy: 0.9666 - val_loss: 0.2046\n",
            "Epoch 5/30\n",
            "2407/2407 - 40s - 17ms/step - accuracy: 0.8768 - loss: 0.2940 - val_accuracy: 0.9303 - val_loss: 0.2156\n",
            "Epoch 6/30\n",
            "2407/2407 - 42s - 17ms/step - accuracy: 0.8887 - loss: 0.2730 - val_accuracy: 0.9252 - val_loss: 0.1984\n",
            "Epoch 7/30\n",
            "2407/2407 - 41s - 17ms/step - accuracy: 0.8981 - loss: 0.2565 - val_accuracy: 0.9395 - val_loss: 0.1704\n",
            "Epoch 8/30\n",
            "2407/2407 - 41s - 17ms/step - accuracy: 0.9038 - loss: 0.2415 - val_accuracy: 0.9280 - val_loss: 0.1849\n",
            "Epoch 9/30\n",
            "2407/2407 - 41s - 17ms/step - accuracy: 0.9084 - loss: 0.2283 - val_accuracy: 0.8974 - val_loss: 0.2414\n",
            "Epoch 10/30\n",
            "2407/2407 - 41s - 17ms/step - accuracy: 0.9123 - loss: 0.2174 - val_accuracy: 0.9215 - val_loss: 0.1946\n",
            "Epoch 11/30\n",
            "2407/2407 - 41s - 17ms/step - accuracy: 0.9166 - loss: 0.2067 - val_accuracy: 0.9311 - val_loss: 0.1751\n",
            "Epoch 12/30\n",
            "2407/2407 - 41s - 17ms/step - accuracy: 0.9209 - loss: 0.1951 - val_accuracy: 0.9607 - val_loss: 0.1176\n",
            "Epoch 13/30\n",
            "2407/2407 - 41s - 17ms/step - accuracy: 0.9259 - loss: 0.1835 - val_accuracy: 0.9583 - val_loss: 0.1178\n",
            "Epoch 14/30\n",
            "2407/2407 - 27s - 11ms/step - accuracy: 0.9300 - loss: 0.1736 - val_accuracy: 0.9322 - val_loss: 0.1550\n",
            "Epoch 15/30\n",
            "2407/2407 - 41s - 17ms/step - accuracy: 0.9341 - loss: 0.1637 - val_accuracy: 0.9617 - val_loss: 0.1107\n",
            "Epoch 16/30\n",
            "2407/2407 - 41s - 17ms/step - accuracy: 0.9372 - loss: 0.1573 - val_accuracy: 0.9125 - val_loss: 0.2082\n",
            "Epoch 17/30\n",
            "2407/2407 - 41s - 17ms/step - accuracy: 0.9401 - loss: 0.1495 - val_accuracy: 0.9606 - val_loss: 0.0988\n",
            "Epoch 18/30\n",
            "2407/2407 - 41s - 17ms/step - accuracy: 0.9423 - loss: 0.1443 - val_accuracy: 0.9690 - val_loss: 0.0948\n",
            "Epoch 19/30\n",
            "2407/2407 - 28s - 11ms/step - accuracy: 0.9452 - loss: 0.1382 - val_accuracy: 0.9616 - val_loss: 0.0939\n",
            "Epoch 20/30\n",
            "2407/2407 - 27s - 11ms/step - accuracy: 0.9472 - loss: 0.1328 - val_accuracy: 0.9512 - val_loss: 0.1194\n",
            "Epoch 21/30\n",
            "2407/2407 - 41s - 17ms/step - accuracy: 0.9497 - loss: 0.1279 - val_accuracy: 0.9407 - val_loss: 0.1422\n",
            "Epoch 22/30\n",
            "2407/2407 - 41s - 17ms/step - accuracy: 0.9519 - loss: 0.1231 - val_accuracy: 0.9682 - val_loss: 0.0852\n",
            "Epoch 23/30\n",
            "2407/2407 - 41s - 17ms/step - accuracy: 0.9535 - loss: 0.1189 - val_accuracy: 0.9753 - val_loss: 0.0711\n",
            "Epoch 24/30\n",
            "2407/2407 - 41s - 17ms/step - accuracy: 0.9556 - loss: 0.1150 - val_accuracy: 0.9686 - val_loss: 0.0906\n",
            "Epoch 25/30\n",
            "2407/2407 - 41s - 17ms/step - accuracy: 0.9567 - loss: 0.1117 - val_accuracy: 0.9403 - val_loss: 0.1519\n",
            "Epoch 26/30\n",
            "2407/2407 - 41s - 17ms/step - accuracy: 0.9585 - loss: 0.1079 - val_accuracy: 0.9651 - val_loss: 0.0924\n",
            "Epoch 27/30\n",
            "2407/2407 - 41s - 17ms/step - accuracy: 0.9602 - loss: 0.1046 - val_accuracy: 0.9710 - val_loss: 0.0882\n",
            "Epoch 28/30\n",
            "2407/2407 - 41s - 17ms/step - accuracy: 0.9618 - loss: 0.1009 - val_accuracy: 0.9683 - val_loss: 0.0800\n",
            "Epoch 29/30\n",
            "2407/2407 - 27s - 11ms/step - accuracy: 0.9627 - loss: 0.0976 - val_accuracy: 0.9675 - val_loss: 0.0865\n",
            "Epoch 30/30\n",
            "2407/2407 - 41s - 17ms/step - accuracy: 0.9647 - loss: 0.0941 - val_accuracy: 0.9770 - val_loss: 0.0665\n"
          ]
        },
        {
          "data": {
            "text/plain": [
              "30"
            ]
          },
          "execution_count": 24,
          "metadata": {},
          "output_type": "execute_result"
        }
      ],
      "source": [
        "callback = keras.callbacks.EarlyStopping(monitor='loss',patience=3)\n",
        "history=model.fit(\n",
        "    X_train_scaled, y_train,\n",
        "validation_split=0.15,    epochs=30,\n",
        "    batch_size=128,\n",
        "    verbose=2,callbacks=[callback]\n",
        "\n",
        ")\n",
        "len(history.history['loss'])"
      ]
    },
    {
      "cell_type": "markdown",
      "metadata": {
        "id": "v-zbWQp8faGH"
      },
      "source": [
        "**Entraînement du modèle avec EarlyStopping et décroissance exponentielle du taux d'apprentissage:**\n",
        "\n",
        "\n",
        "> Entraîne le modèle en combinant EarlyStopping et une stratégie de réduction exponentielle du taux d'apprentissage.\n",
        "\n"
      ]
    },
    {
      "cell_type": "code",
      "execution_count": null,
      "metadata": {
        "id": "56naVKVXeF2G"
      },
      "outputs": [],
      "source": [
        "\n",
        "\n",
        "lr_schedule = ExponentialDecay(\n",
        "    initial_learning_rate=0.0001,\n",
        "    decay_steps=1000,\n",
        "    decay_rate=0.96,\n",
        "    staircase=False\n",
        ")\n",
        "\n",
        "optimizer = keras.optimizers.Adam(learning_rate=lr_schedule)\n",
        "\n",
        "model.compile(optimizer=optimizer, loss=\"sparse_categorical_crossentropy\", metrics=[\"accuracy\"])\n",
        "\n",
        "\n",
        "callback = keras.callbacks.EarlyStopping(monitor='loss',patience=3)\n",
        "history=model.fit(\n",
        "    X_train_scaled, y_train,\n",
        "validation_split=0.15,    epochs=1000,\n",
        "    batch_size=256,\n",
        "    verbose=2,callbacks=[callback]\n",
        "\n",
        ")\n",
        "len(history.history['loss'])"
      ]
    },
    {
      "cell_type": "markdown",
      "metadata": {
        "id": "30WCjjNRfZH1"
      },
      "source": [
        "**Entraînement du modèle avec ReduceLROnPlateau et EarlyStopping :**\n",
        "\n",
        "\n",
        "> Combine les callbacks ReduceLROnPlateau et EarlyStopping pour optimiser le processus d'entraînement en ajustant le taux d'apprentissage et en arrêtant l'entraînement prématurément si nécessaire.\n",
        "\n"
      ]
    },
    {
      "cell_type": "code",
      "execution_count": null,
      "metadata": {
        "id": "cDBW8IrQHoID"
      },
      "outputs": [],
      "source": [
        "\n",
        "\n",
        "reduce_lr = ReduceLROnPlateau(\n",
        "    monitor='loss',\n",
        "    factor=0.5,\n",
        "    patience=5,\n",
        "    min_lr=1e-6\n",
        ")\n",
        "\n",
        "history = model.fit(\n",
        "    X_train_scaled, y_train,\n",
        "    validation_split=0.15,\n",
        "    epochs=1000,\n",
        "    batch_size=256,\n",
        "    verbose=2,\n",
        "    callbacks=[callback, reduce_lr]\n",
        ")\n"
      ]
    },
    {
      "cell_type": "markdown",
      "metadata": {
        "id": "BOYWZ7Htecai"
      },
      "source": [
        "**Construction et entraînement d'un modèle Transformers :**\n",
        "\n",
        "\n",
        "> Implémentation d'un modèle Transformer avec couches MultiHeadAttention pour classer les arythmies à partir des signaux ECG.\n",
        ">l'output et le modele en commentaire sont pour le cas ou on regroupe les données en deux classes au lieu de 5\n",
        ">Vue que la classification est binaire on a choisis sigmoid & Binary Crossentropy and Accuracy\n",
        "\n"
      ]
    },
    {
      "cell_type": "code",
      "execution_count": 12,
      "metadata": {
        "colab": {
          "base_uri": "https://localhost:8080/"
        },
        "id": "-n0kxB5e82Fn",
        "outputId": "18904c51-499d-4b2e-c9f9-60470d3d0a3e"
      },
      "outputs": [
        {
          "output_type": "stream",
          "name": "stdout",
          "text": [
            "Epoch 1/200\n",
            "\u001b[1m2831/2831\u001b[0m \u001b[32m━━━━━━━━━━━━━━━━━━━━\u001b[0m\u001b[37m\u001b[0m \u001b[1m131s\u001b[0m 42ms/step - accuracy: 0.8511 - loss: 0.4381 - val_accuracy: 0.9262 - val_loss: 0.2373 - learning_rate: 1.0000e-04\n",
            "Epoch 2/200\n",
            "\u001b[1m2831/2831\u001b[0m \u001b[32m━━━━━━━━━━━━━━━━━━━━\u001b[0m\u001b[37m\u001b[0m \u001b[1m133s\u001b[0m 41ms/step - accuracy: 0.9504 - loss: 0.1501 - val_accuracy: 0.9444 - val_loss: 0.2090 - learning_rate: 1.0000e-04\n",
            "Epoch 3/200\n",
            "\u001b[1m2831/2831\u001b[0m \u001b[32m━━━━━━━━━━━━━━━━━━━━\u001b[0m\u001b[37m\u001b[0m \u001b[1m140s\u001b[0m 41ms/step - accuracy: 0.9674 - loss: 0.1029 - val_accuracy: 0.9504 - val_loss: 0.2184 - learning_rate: 1.0000e-04\n",
            "Epoch 4/200\n",
            "\u001b[1m2831/2831\u001b[0m \u001b[32m━━━━━━━━━━━━━━━━━━━━\u001b[0m\u001b[37m\u001b[0m \u001b[1m142s\u001b[0m 41ms/step - accuracy: 0.9754 - loss: 0.0794 - val_accuracy: 0.9470 - val_loss: 0.2453 - learning_rate: 1.0000e-04\n",
            "Epoch 5/200\n",
            "\u001b[1m2831/2831\u001b[0m \u001b[32m━━━━━━━━━━━━━━━━━━━━\u001b[0m\u001b[37m\u001b[0m \u001b[1m142s\u001b[0m 41ms/step - accuracy: 0.9806 - loss: 0.0644 - val_accuracy: 0.9493 - val_loss: 0.2506 - learning_rate: 1.0000e-04\n",
            "Epoch 6/200\n",
            "\u001b[1m2831/2831\u001b[0m \u001b[32m━━━━━━━━━━━━━━━━━━━━\u001b[0m\u001b[37m\u001b[0m \u001b[1m142s\u001b[0m 41ms/step - accuracy: 0.9824 - loss: 0.0569 - val_accuracy: 0.9477 - val_loss: 0.2526 - learning_rate: 1.0000e-04\n",
            "Epoch 7/200\n",
            "\u001b[1m2831/2831\u001b[0m \u001b[32m━━━━━━━━━━━━━━━━━━━━\u001b[0m\u001b[37m\u001b[0m \u001b[1m0s\u001b[0m 38ms/step - accuracy: 0.9851 - loss: 0.0494\n",
            "Epoch 7: ReduceLROnPlateau reducing learning rate to 4.999999873689376e-05.\n",
            "\u001b[1m2831/2831\u001b[0m \u001b[32m━━━━━━━━━━━━━━━━━━━━\u001b[0m\u001b[37m\u001b[0m \u001b[1m142s\u001b[0m 41ms/step - accuracy: 0.9851 - loss: 0.0494 - val_accuracy: 0.9524 - val_loss: 0.2637 - learning_rate: 1.0000e-04\n",
            "Epoch 8/200\n",
            "\u001b[1m2831/2831\u001b[0m \u001b[32m━━━━━━━━━━━━━━━━━━━━\u001b[0m\u001b[37m\u001b[0m \u001b[1m144s\u001b[0m 42ms/step - accuracy: 0.9886 - loss: 0.0387 - val_accuracy: 0.9513 - val_loss: 0.2816 - learning_rate: 5.0000e-05\n",
            "Epoch 9/200\n",
            "\u001b[1m2831/2831\u001b[0m \u001b[32m━━━━━━━━━━━━━━━━━━━━\u001b[0m\u001b[37m\u001b[0m \u001b[1m140s\u001b[0m 41ms/step - accuracy: 0.9893 - loss: 0.0361 - val_accuracy: 0.9542 - val_loss: 0.2733 - learning_rate: 5.0000e-05\n",
            "Epoch 10/200\n",
            "\u001b[1m2831/2831\u001b[0m \u001b[32m━━━━━━━━━━━━━━━━━━━━\u001b[0m\u001b[37m\u001b[0m \u001b[1m141s\u001b[0m 41ms/step - accuracy: 0.9900 - loss: 0.0340 - val_accuracy: 0.9524 - val_loss: 0.2965 - learning_rate: 5.0000e-05\n",
            "Epoch 11/200\n",
            "\u001b[1m2831/2831\u001b[0m \u001b[32m━━━━━━━━━━━━━━━━━━━━\u001b[0m\u001b[37m\u001b[0m \u001b[1m117s\u001b[0m 41ms/step - accuracy: 0.9902 - loss: 0.0332 - val_accuracy: 0.9510 - val_loss: 0.2930 - learning_rate: 5.0000e-05\n",
            "Epoch 12/200\n",
            "\u001b[1m2831/2831\u001b[0m \u001b[32m━━━━━━━━━━━━━━━━━━━━\u001b[0m\u001b[37m\u001b[0m \u001b[1m0s\u001b[0m 38ms/step - accuracy: 0.9909 - loss: 0.0305\n",
            "Epoch 12: ReduceLROnPlateau reducing learning rate to 2.499999936844688e-05.\n",
            "\u001b[1m2831/2831\u001b[0m \u001b[32m━━━━━━━━━━━━━━━━━━━━\u001b[0m\u001b[37m\u001b[0m \u001b[1m143s\u001b[0m 41ms/step - accuracy: 0.9909 - loss: 0.0305 - val_accuracy: 0.9533 - val_loss: 0.2917 - learning_rate: 5.0000e-05\n",
            "Epoch 12: early stopping\n",
            "Restoring model weights from the end of the best epoch: 2.\n"
          ]
        }
      ],
      "source": [
        "\n",
        "input_shape = X_train_scaled.shape[1:]\n",
        "num_heads = 4\n",
        "embed_dim = 64\n",
        "ff_dim = 128\n",
        "dropout_rate = 0.1\n",
        "\n",
        "def transformer_encoder(inputs, embed_dim, num_heads, ff_dim, dropout_rate=0.1):\n",
        "    attention_output = MultiHeadAttention(num_heads=num_heads, key_dim=embed_dim)(inputs, inputs)\n",
        "    attention_output = Dropout(dropout_rate)(attention_output)\n",
        "    attention_output = LayerNormalization(epsilon=1e-6)(inputs + attention_output)\n",
        "\n",
        "    ffn_output = Dense(ff_dim, activation=\"relu\")(attention_output)\n",
        "    ffn_output = Dense(embed_dim)(ffn_output)\n",
        "    ffn_output = Dropout(dropout_rate)(ffn_output)\n",
        "    return LayerNormalization(epsilon=1e-6)(attention_output + ffn_output)\n",
        "\n",
        "inputs = Input(shape=input_shape)\n",
        "x = Dense(embed_dim)(inputs)\n",
        "x = transformer_encoder(x, embed_dim, num_heads, ff_dim, dropout_rate)\n",
        "x = transformer_encoder(x, embed_dim, num_heads, ff_dim, dropout_rate)\n",
        "\n",
        "x = Flatten()(x)\n",
        "outputs = Dense(5, activation=\"softmax\")(x)\n",
        "#outputs = Dense(1, activation=\"sigmoid\")(x)\n",
        "\n",
        "model = Model(inputs=inputs, outputs=outputs)\n",
        "model.compile(optimizer=keras.optimizers.Adam(learning_rate=0.0001), loss=\"sparse_categorical_crossentropy\", metrics=[\"accuracy\"])\n",
        "#model.compile(optimizer=keras.optimizers.Adam(learning_rate=0.0001), loss=\"binary_crossentropy\", metrics=[\"accuracy\"])\n",
        "\n",
        "early_stopping = EarlyStopping(monitor=\"val_loss\", patience=10, restore_best_weights=True, verbose=1)\n",
        "\n",
        "reduce_lr = ReduceLROnPlateau(\n",
        "    monitor=\"val_loss\",\n",
        "    factor=0.5,\n",
        "    patience=5,\n",
        "    verbose=1,\n",
        "    min_lr=1e-6\n",
        ")\n",
        "\n",
        "history = model.fit(\n",
        "    X_train_scaled,\n",
        "    y_train,\n",
        "    epochs=200,\n",
        "    batch_size=128,\n",
        "    validation_data=(X_test_scaled, y_test),\n",
        "    #class_weight={0: 1., 1: 2., 2: 1., 3: 1., 4: 1.},\n",
        "    callbacks=[early_stopping, reduce_lr],\n",
        "    verbose=1\n",
        ")\n"
      ]
    },
    {
      "cell_type": "markdown",
      "source": [
        "**Enregistrer le résultat du modèle dans une variable**"
      ],
      "metadata": {
        "id": "hbY86xbRoCn9"
      }
    },
    {
      "cell_type": "code",
      "source": [
        "trained_model = model\n",
        "\n",
        "training_history = history.history\n",
        "\n",
        "print(training_history[\"accuracy\"])\n",
        "print(training_history[\"val_loss\"])\n"
      ],
      "metadata": {
        "colab": {
          "base_uri": "https://localhost:8080/"
        },
        "id": "6wfpJJHgoNuD",
        "outputId": "f8ddb34f-3c23-446d-aa18-da1cae4de462"
      },
      "execution_count": null,
      "outputs": [
        {
          "output_type": "stream",
          "name": "stdout",
          "text": [
            "[0.9044073224067688, 0.957955002784729, 0.9716379046440125, 0.9774969220161438, 0.9811646342277527, 0.983565628528595, 0.9853649735450745, 0.9867613911628723, 0.9901145100593567, 0.9903435707092285, 0.9908817410469055, 0.9912763833999634, 0.9915854930877686]\n",
            "[0.23901508748531342, 0.2311651110649109, 0.22914206981658936, 0.25122570991516113, 0.2854610085487366, 0.2665979862213135, 0.28760817646980286, 0.2783921957015991, 0.28925803303718567, 0.28928086161613464, 0.28782323002815247, 0.2841006815433502, 0.29004424810409546]\n"
          ]
        }
      ]
    },
    {
      "cell_type": "markdown",
      "metadata": {
        "id": "YkJen22ytEMM"
      },
      "source": [
        "**Courbe ROC**\n",
        "\n",
        "\n",
        "> Cette fonction nous permet de crée la courbe ROC\n",
        "\n"
      ]
    },
    {
      "cell_type": "code",
      "execution_count": 13,
      "metadata": {
        "colab": {
          "base_uri": "https://localhost:8080/",
          "height": 736
        },
        "id": "Mp31GqkCs9lm",
        "outputId": "70b1a784-2c20-4fee-b502-3916ba418af5"
      },
      "outputs": [
        {
          "output_type": "stream",
          "name": "stdout",
          "text": [
            "\u001b[1m2831/2831\u001b[0m \u001b[32m━━━━━━━━━━━━━━━━━━━━\u001b[0m\u001b[37m\u001b[0m \u001b[1m12s\u001b[0m 4ms/step\n"
          ]
        },
        {
          "output_type": "display_data",
          "data": {
            "text/plain": [
              "<Figure size 1000x800 with 1 Axes>"
            ],
            "image/png": "[encoded data removed]"
          },
          "metadata": {}
        }
      ],
      "source": [
        "\n",
        "\n",
        "def plot_roc_curve(model, X_test, y_test, n_classes):\n",
        "\n",
        "    y_pred_proba = model.predict(X_test)\n",
        "\n",
        "\n",
        "    y_test_bin = label_binarize(y_test, classes=np.arange(n_classes))\n",
        "\n",
        "    fpr = dict()\n",
        "    tpr = dict()\n",
        "    roc_auc = dict()\n",
        "\n",
        "    for i in range(n_classes):\n",
        "        fpr[i], tpr[i], _ = roc_curve(y_test_bin[:, i], y_pred_proba[:, i])\n",
        "        roc_auc[i] = auc(fpr[i], tpr[i])\n",
        "\n",
        "    plt.figure(figsize=(10, 8))\n",
        "    for i in range(n_classes):\n",
        "        plt.plot(fpr[i], tpr[i], label=f'Classe {i} (AUC = {roc_auc[i]:.2f})')\n",
        "\n",
        "    plt.plot([0, 1], [0, 1], 'k--', label='Référence (aléatoire)')\n",
        "    plt.xlim([0.0, 1.0])\n",
        "    plt.ylim([0.0, 1.05])\n",
        "    plt.xlabel('Taux de faux positifs (FPR)')\n",
        "    plt.ylabel('Taux de vrais positifs (TPR)')\n",
        "    plt.title('Courbe ROC pour chaque classe')\n",
        "    plt.legend(loc=\"lower right\")\n",
        "    plt.show()\n",
        "\n",
        "plot_roc_curve(model, X_test_scaled, y_test, n_classes=5)\n"
      ]
    },
    {
      "cell_type": "markdown",
      "metadata": {
        "id": "cDM2rB6AexGP"
      },
      "source": [
        "**Évaluation des performances du modèle avec les métriques et la matrice de confusion:**\n",
        "\n",
        "\n",
        "\n",
        "> Ce bloc évalue la précision du modèle sur les données de test, génère un rapport détaillé des classes, et affiche une matrice de confusion.\n",
        "\n",
        "> Ici on a le code pour la Matrice de confusion pour les 5 classes, et également le code pour regrouper les classes en deux catégories sains et malade et cela d'une manière équitable"
      ]
    },
    {
      "cell_type": "code",
      "execution_count": 20,
      "metadata": {
        "colab": {
          "base_uri": "https://localhost:8080/",
          "height": 850
        },
        "id": "o1NLGhwvlz-e",
        "outputId": "a902845f-7c39-49cc-f296-20b0a05c7003"
      },
      "outputs": [
        {
          "output_type": "stream",
          "name": "stdout",
          "text": [
            "\u001b[1m2831/2831\u001b[0m \u001b[32m━━━━━━━━━━━━━━━━━━━━\u001b[0m\u001b[37m\u001b[0m \u001b[1m9s\u001b[0m 3ms/step\n",
            "Accuracy sur le dataset de test : 0.9444\n",
            "\n",
            "Rapport détaillé :\n",
            "              precision    recall  f1-score   support\n",
            "\n",
            "    Classe 0       0.96      0.98      0.97     18117\n",
            "    Classe 1       0.95      0.91      0.93     18117\n",
            "    Classe 2       0.89      0.92      0.91     18117\n",
            "    Classe 3       0.94      0.93      0.94     18117\n",
            "    Classe 4       0.98      0.97      0.98     18117\n",
            "\n",
            "    accuracy                           0.94     90585\n",
            "   macro avg       0.94      0.94      0.94     90585\n",
            "weighted avg       0.94      0.94      0.94     90585\n",
            "\n"
          ]
        },
        {
          "output_type": "display_data",
          "data": {
            "text/plain": [
              "<Figure size 800x600 with 2 Axes>"
            ],
            "image/png": "[encoded data removed]"
          },
          "metadata": {}
        }
      ],
      "source": [
        "\n",
        "y_pred = np.argmax(model.predict(X_test_scaled), axis=-1)\n",
        "\n",
        "accuracy_test = accuracy_score(y_test, y_pred)\n",
        "print(f\"Accuracy sur le dataset de test : {accuracy_test:.4f}\")\n",
        "\n",
        "print(\"\\nRapport détaillé :\")\n",
        "print(classification_report(\n",
        "    y_test,\n",
        "    y_pred,\n",
        "    target_names=['Classe 0', 'Classe 1', 'Classe 2', 'Classe 3', 'Classe 4']\n",
        "))\n",
        "\n",
        "cm = confusion_matrix(y_test, y_pred)\n",
        "\n",
        "plt.figure(figsize=(8, 6))\n",
        "sns.heatmap(\n",
        "    cm,\n",
        "    annot=True,\n",
        "    fmt=\"d\",\n",
        "    cmap=\"Blues\",\n",
        "    xticklabels=['Classe 0', 'Classe 1', 'Classe 2', 'Classe 3', 'Classe 4'],\n",
        "    yticklabels=['Classe 0', 'Classe 1', 'Classe 2', 'Classe 3', 'Classe 4']\n",
        ")\n",
        "plt.xlabel('Prédictions')\n",
        "plt.ylabel('Vrais Labels')\n",
        "plt.title('Matrice de Confusion (Multi-classes)')\n",
        "plt.show()\n"
      ]
    },
    {
      "cell_type": "code",
      "source": [
        "\n",
        "\n",
        "map_to_two_classes = {\n",
        "    0: 0,\n",
        "    1: 1,\n",
        "    2: 1,\n",
        "    3: 1,\n",
        "    4: 1\n",
        "}\n",
        "\n",
        "data = list(zip(X_train_scaled, y_train))\n",
        "class_0 = [d for d in data if d[1] == 0]\n",
        "class_1 = [d for d in data if d[1] == 1]\n",
        "class_2 = [d for d in data if d[1] == 2]\n",
        "class_3 = [d for d in data if d[1] == 3]\n",
        "class_4 = [d for d in data if d[1] == 4]\n",
        "\n",
        "target_size = len(class_0)\n",
        "\n",
        "class_1_sample = resample(class_1, replace=False, n_samples=target_size // 4, random_state=42)\n",
        "class_2_sample = resample(class_2, replace=False, n_samples=target_size // 4, random_state=42)\n",
        "class_3_sample = resample(class_3, replace=False, n_samples=target_size // 4, random_state=42)\n",
        "class_4_sample = resample(class_4, replace=False, n_samples=target_size // 4, random_state=42)\n",
        "\n",
        "new_class_1 = class_1_sample + class_2_sample + class_3_sample + class_4_sample\n",
        "\n",
        "balanced_data = class_0 + new_class_1\n",
        "\n",
        "np.random.shuffle(balanced_data)\n",
        "\n",
        "X_balanced = np.array([d[0] for d in balanced_data])\n",
        "y_balanced = np.array([map_to_two_classes[d[1]] for d in balanced_data])\n",
        "\n",
        "y_pred = np.argmax(model.predict(X_test_scaled), axis=-1)\n",
        "\n",
        "y_test_mapped = np.array([map_to_two_classes[label] for label in y_test])\n",
        "y_pred_mapped = np.array([map_to_two_classes[label] for label in y_pred])\n",
        "\n",
        "accuracy_test = accuracy_score(y_test_mapped, y_pred_mapped)\n",
        "print(f\"Accuracy sur le dataset de test : {accuracy_test:.4f}\")\n",
        "\n",
        "print(\"\\nRapport détaillé :\")\n",
        "print(classification_report(\n",
        "    y_test_mapped,\n",
        "    y_pred_mapped,\n",
        "    target_names=['Bien', 'Malade']\n",
        "))\n",
        "\n",
        "cm = confusion_matrix(y_test_mapped, y_pred_mapped)\n",
        "\n",
        "plt.figure(figsize=(8, 6))\n",
        "sns.heatmap(\n",
        "    cm,\n",
        "    annot=True,\n",
        "    fmt=\"d\",\n",
        "    cmap=\"Blues\",\n",
        "    xticklabels=['Bien', 'Malade'],\n",
        "    yticklabels=['Bien', 'Malade']\n",
        ")\n",
        "plt.xlabel('Prédictions')\n",
        "plt.ylabel('Vrais Labels')\n",
        "plt.title('Matrice de Confusion (Regroupée)')\n",
        "plt.show()\n"
      ],
      "metadata": {
        "colab": {
          "base_uri": "https://localhost:8080/",
          "height": 797
        },
        "id": "FIrxJMmnddOA",
        "outputId": "ba1fea12-1588-4d94-f665-e5e182852cd8"
      },
      "execution_count": 21,
      "outputs": [
        {
          "output_type": "stream",
          "name": "stdout",
          "text": [
            "\u001b[1m2831/2831\u001b[0m \u001b[32m━━━━━━━━━━━━━━━━━━━━\u001b[0m\u001b[37m\u001b[0m \u001b[1m9s\u001b[0m 3ms/step\n",
            "Accuracy sur le dataset de test : 0.9887\n",
            "\n",
            "Rapport détaillé :\n",
            "              precision    recall  f1-score   support\n",
            "\n",
            "        Bien       0.96      0.98      0.97     18117\n",
            "      Malade       1.00      0.99      0.99     72468\n",
            "\n",
            "    accuracy                           0.99     90585\n",
            "   macro avg       0.98      0.99      0.98     90585\n",
            "weighted avg       0.99      0.99      0.99     90585\n",
            "\n"
          ]
        },
        {
          "output_type": "display_data",
          "data": {
            "text/plain": [
              "<Figure size 800x600 with 2 Axes>"
            ],
            "image/png": "[encoded data removed]"
          },
          "metadata": {}
        }
      ]
    },
    {
      "cell_type": "markdown",
      "source": [
        "**Construction et entraînement du modèle LSTM + Attetion:**\n",
        "\n",
        "\n",
        "> Modèle LSTM pour classer les arythmies à partir des données ECG, basé sur une architecture séquentielle.\n",
        "\n",
        "\n",
        "\n"
      ],
      "metadata": {
        "id": "VD2SEI3YCUuI"
      }
    },
    {
      "cell_type": "code",
      "execution_count": null,
      "metadata": {
        "colab": {
          "base_uri": "https://localhost:8080/"
        },
        "id": "NMRU1BtJBBQf",
        "outputId": "6aac05fe-cb5d-4c88-96ba-77b0b360da36"
      },
      "outputs": [
        {
          "name": "stdout",
          "output_type": "stream",
          "text": [
            "Epoch 1/30\n",
            "2407/2407 - 36s - 15ms/step - accuracy: 0.7817 - loss: 0.5232 - val_accuracy: 0.9479 - val_loss: 0.4018\n",
            "Epoch 2/30\n",
            "2407/2407 - 39s - 16ms/step - accuracy: 0.7949 - loss: 0.4548 - val_accuracy: 0.9536 - val_loss: 0.4779\n",
            "Epoch 3/30\n",
            "2407/2407 - 41s - 17ms/step - accuracy: 0.8132 - loss: 0.3879 - val_accuracy: 0.7261 - val_loss: 0.4167\n",
            "Epoch 4/30\n",
            "2407/2407 - 42s - 17ms/step - accuracy: 0.8533 - loss: 0.2994 - val_accuracy: 0.8155 - val_loss: 0.3427\n",
            "Epoch 5/30\n",
            "2407/2407 - 40s - 17ms/step - accuracy: 0.8872 - loss: 0.2500 - val_accuracy: 0.8893 - val_loss: 0.1963\n",
            "Epoch 6/30\n",
            "2407/2407 - 41s - 17ms/step - accuracy: 0.9059 - loss: 0.2207 - val_accuracy: 0.8997 - val_loss: 0.2021\n",
            "Epoch 7/30\n",
            "2407/2407 - 32s - 13ms/step - accuracy: 0.9146 - loss: 0.2039 - val_accuracy: 0.9337 - val_loss: 0.1825\n",
            "Epoch 8/30\n",
            "2407/2407 - 32s - 13ms/step - accuracy: 0.9217 - loss: 0.1909 - val_accuracy: 0.9138 - val_loss: 0.2065\n",
            "Epoch 9/30\n",
            "2407/2407 - 32s - 13ms/step - accuracy: 0.9208 - loss: 0.1939 - val_accuracy: 0.9291 - val_loss: 0.1761\n",
            "Epoch 10/30\n",
            "2407/2407 - 41s - 17ms/step - accuracy: 0.9297 - loss: 0.1756 - val_accuracy: 0.9240 - val_loss: 0.1880\n",
            "Epoch 11/30\n",
            "2407/2407 - 41s - 17ms/step - accuracy: 0.9302 - loss: 0.1760 - val_accuracy: 0.9425 - val_loss: 0.1558\n",
            "Epoch 12/30\n",
            "2407/2407 - 41s - 17ms/step - accuracy: 0.9298 - loss: 0.1750 - val_accuracy: 0.9259 - val_loss: 0.1711\n",
            "Epoch 13/30\n",
            "2407/2407 - 41s - 17ms/step - accuracy: 0.9378 - loss: 0.1585 - val_accuracy: 0.9200 - val_loss: 0.2055\n",
            "Epoch 14/30\n",
            "2407/2407 - 41s - 17ms/step - accuracy: 0.9398 - loss: 0.1548 - val_accuracy: 0.9453 - val_loss: 0.1386\n",
            "Epoch 15/30\n",
            "2407/2407 - 31s - 13ms/step - accuracy: 0.9427 - loss: 0.1483 - val_accuracy: 0.9392 - val_loss: 0.1574\n",
            "Epoch 16/30\n",
            "2407/2407 - 31s - 13ms/step - accuracy: 0.9464 - loss: 0.1401 - val_accuracy: 0.9585 - val_loss: 0.1054\n",
            "Epoch 17/30\n",
            "2407/2407 - 32s - 13ms/step - accuracy: 0.9466 - loss: 0.1398 - val_accuracy: 0.9136 - val_loss: 0.2142\n",
            "Epoch 18/30\n",
            "2407/2407 - 41s - 17ms/step - accuracy: 0.9506 - loss: 0.1316 - val_accuracy: 0.9178 - val_loss: 0.2467\n",
            "Epoch 19/30\n",
            "2407/2407 - 41s - 17ms/step - accuracy: 0.9512 - loss: 0.1289 - val_accuracy: 0.9644 - val_loss: 0.1069\n",
            "Epoch 20/30\n",
            "2407/2407 - 41s - 17ms/step - accuracy: 0.9549 - loss: 0.1215 - val_accuracy: 0.9684 - val_loss: 0.1000\n",
            "Epoch 21/30\n",
            "2407/2407 - 32s - 13ms/step - accuracy: 0.9525 - loss: 0.1261 - val_accuracy: 0.9133 - val_loss: 0.2103\n",
            "Epoch 22/30\n",
            "2407/2407 - 31s - 13ms/step - accuracy: 0.9566 - loss: 0.1165 - val_accuracy: 0.9616 - val_loss: 0.1098\n",
            "Epoch 23/30\n",
            "2407/2407 - 42s - 17ms/step - accuracy: 0.9555 - loss: 0.1187 - val_accuracy: 0.9821 - val_loss: 0.0632\n",
            "Epoch 24/30\n",
            "2407/2407 - 40s - 17ms/step - accuracy: 0.9599 - loss: 0.1086 - val_accuracy: 0.9644 - val_loss: 0.1056\n",
            "Epoch 25/30\n",
            "2407/2407 - 41s - 17ms/step - accuracy: 0.9615 - loss: 0.1044 - val_accuracy: 0.9833 - val_loss: 0.0629\n",
            "Epoch 26/30\n",
            "2407/2407 - 42s - 17ms/step - accuracy: 0.9632 - loss: 0.1009 - val_accuracy: 0.9790 - val_loss: 0.0591\n",
            "Epoch 27/30\n",
            "2407/2407 - 41s - 17ms/step - accuracy: 0.9631 - loss: 0.0999 - val_accuracy: 0.9685 - val_loss: 0.0771\n",
            "Epoch 28/30\n",
            "2407/2407 - 31s - 13ms/step - accuracy: 0.9648 - loss: 0.0962 - val_accuracy: 0.9815 - val_loss: 0.0665\n",
            "Epoch 29/30\n",
            "2407/2407 - 32s - 13ms/step - accuracy: 0.9663 - loss: 0.0926 - val_accuracy: 0.9801 - val_loss: 0.0669\n",
            "Epoch 30/30\n",
            "2407/2407 - 32s - 13ms/step - accuracy: 0.9678 - loss: 0.0901 - val_accuracy: 0.9814 - val_loss: 0.0655\n"
          ]
        },
        {
          "data": {
            "text/plain": [
              "30"
            ]
          },
          "execution_count": 25,
          "metadata": {},
          "output_type": "execute_result"
        }
      ],
      "source": [
        "\n",
        "input_layer = Input(shape=(X_train_scaled.shape[1], X_train_scaled.shape[2]))\n",
        "\n",
        "lstm_out, state_h, state_c = LSTM(100, return_sequences=True, return_state=True)(input_layer)\n",
        "\n",
        "attention = Dense(1, activation=\"tanh\")(lstm_out)  # Calcule un score pour chaque pas de temps\n",
        "attention = Softmax(axis=1)(attention)            # Normalise les scores en probabilités\n",
        "context_vector = Multiply()([lstm_out, attention])  # Applique les poids aux sorties du LSTM\n",
        "context_vector = Lambda(lambda x: K.sum(x, axis=1))(context_vector)  # Somme pondérée des pas de temps\n",
        "\n",
        "output_layer = Dense(5, activation=\"softmax\")(context_vector)\n",
        "\n",
        "model = Model(inputs=input_layer, outputs=output_layer)\n",
        "\n",
        "model.compile(optimizer=keras.optimizers.Adam(learning_rate=0.0001), loss=\"sparse_categorical_crossentropy\", metrics=[\"accuracy\"])\n",
        "\n",
        "callback = keras.callbacks.EarlyStopping(monitor=\"loss\", patience=3)\n",
        "history = model.fit(\n",
        "    X_train_scaled,\n",
        "    y_train,\n",
        "    validation_split=0.15,\n",
        "    epochs=30,\n",
        "    batch_size=128,\n",
        "    verbose=2,\n",
        "    callbacks=[callback],\n",
        ")\n",
        "\n",
        "\n",
        "len(history.history[\"loss\"])\n"
      ]
    },
    {
      "cell_type": "markdown",
      "source": [
        "**Construction et entraînement du modèle GRU + Attetion:**\n",
        "\n",
        "\n",
        "> Modèle GRU pour classer les arythmies à partir des données ECG, basé sur une architecture séquentielle.\n",
        "\n",
        "\n",
        "\n"
      ],
      "metadata": {
        "id": "CQBbwTZhCY8A"
      }
    },
    {
      "cell_type": "code",
      "execution_count": null,
      "metadata": {
        "colab": {
          "base_uri": "https://localhost:8080/"
        },
        "id": "8QhRX6MnYXsQ",
        "outputId": "948271a4-30cb-40c0-ab09-4992f69706f0"
      },
      "outputs": [
        {
          "name": "stdout",
          "output_type": "stream",
          "text": [
            "Epoch 1/30\n",
            "2407/2407 - 35s - 14ms/step - accuracy: 0.7678 - loss: 0.5459 - val_accuracy: 0.9316 - val_loss: 0.3941\n",
            "Epoch 2/30\n",
            "2407/2407 - 41s - 17ms/step - accuracy: 0.7854 - loss: 0.4725 - val_accuracy: 0.8803 - val_loss: 0.4624\n",
            "Epoch 3/30\n",
            "2407/2407 - 40s - 17ms/step - accuracy: 0.7871 - loss: 0.4576 - val_accuracy: 0.7118 - val_loss: 0.5142\n",
            "Epoch 4/30\n",
            "2407/2407 - 41s - 17ms/step - accuracy: 0.8198 - loss: 0.3815 - val_accuracy: 0.9507 - val_loss: 0.2174\n",
            "Epoch 5/30\n",
            "2407/2407 - 41s - 17ms/step - accuracy: 0.8599 - loss: 0.3102 - val_accuracy: 0.9626 - val_loss: 0.2117\n",
            "Epoch 6/30\n",
            "2407/2407 - 40s - 17ms/step - accuracy: 0.8706 - loss: 0.2922 - val_accuracy: 0.9250 - val_loss: 0.2778\n",
            "Epoch 7/30\n",
            "2407/2407 - 41s - 17ms/step - accuracy: 0.8798 - loss: 0.2800 - val_accuracy: 0.9555 - val_loss: 0.2334\n",
            "Epoch 8/30\n",
            "2407/2407 - 30s - 12ms/step - accuracy: 0.8886 - loss: 0.2693 - val_accuracy: 0.9471 - val_loss: 0.2511\n",
            "Epoch 9/30\n",
            "2407/2407 - 30s - 13ms/step - accuracy: 0.8942 - loss: 0.2604 - val_accuracy: 0.9486 - val_loss: 0.2448\n",
            "Epoch 10/30\n",
            "2407/2407 - 41s - 17ms/step - accuracy: 0.9000 - loss: 0.2494 - val_accuracy: 0.9752 - val_loss: 0.1683\n",
            "Epoch 11/30\n",
            "2407/2407 - 41s - 17ms/step - accuracy: 0.9046 - loss: 0.2383 - val_accuracy: 0.9691 - val_loss: 0.1874\n",
            "Epoch 12/30\n",
            "2407/2407 - 40s - 17ms/step - accuracy: 0.9092 - loss: 0.2251 - val_accuracy: 0.9651 - val_loss: 0.1753\n",
            "Epoch 13/30\n",
            "2407/2407 - 41s - 17ms/step - accuracy: 0.9156 - loss: 0.2108 - val_accuracy: 0.9841 - val_loss: 0.1261\n",
            "Epoch 14/30\n",
            "2407/2407 - 41s - 17ms/step - accuracy: 0.9190 - loss: 0.2002 - val_accuracy: 0.9728 - val_loss: 0.1446\n",
            "Epoch 15/30\n",
            "2407/2407 - 41s - 17ms/step - accuracy: 0.9225 - loss: 0.1909 - val_accuracy: 0.9563 - val_loss: 0.1632\n",
            "Epoch 16/30\n",
            "2407/2407 - 41s - 17ms/step - accuracy: 0.9263 - loss: 0.1818 - val_accuracy: 0.8930 - val_loss: 0.2813\n",
            "Epoch 17/30\n",
            "2407/2407 - 41s - 17ms/step - accuracy: 0.9293 - loss: 0.1749 - val_accuracy: 0.9423 - val_loss: 0.1916\n",
            "Epoch 18/30\n",
            "2407/2407 - 30s - 12ms/step - accuracy: 0.9327 - loss: 0.1679 - val_accuracy: 0.9338 - val_loss: 0.1920\n",
            "Epoch 19/30\n",
            "2407/2407 - 41s - 17ms/step - accuracy: 0.9348 - loss: 0.1627 - val_accuracy: 0.9613 - val_loss: 0.1317\n",
            "Epoch 20/30\n",
            "2407/2407 - 41s - 17ms/step - accuracy: 0.9368 - loss: 0.1579 - val_accuracy: 0.9642 - val_loss: 0.1303\n",
            "Epoch 21/30\n",
            "2407/2407 - 30s - 13ms/step - accuracy: 0.9392 - loss: 0.1531 - val_accuracy: 0.9617 - val_loss: 0.1207\n",
            "Epoch 22/30\n",
            "2407/2407 - 40s - 17ms/step - accuracy: 0.9416 - loss: 0.1483 - val_accuracy: 0.9482 - val_loss: 0.1600\n",
            "Epoch 23/30\n",
            "2407/2407 - 42s - 17ms/step - accuracy: 0.9436 - loss: 0.1437 - val_accuracy: 0.9531 - val_loss: 0.1576\n",
            "Epoch 24/30\n",
            "2407/2407 - 30s - 12ms/step - accuracy: 0.9453 - loss: 0.1393 - val_accuracy: 0.9614 - val_loss: 0.1170\n",
            "Epoch 25/30\n",
            "2407/2407 - 41s - 17ms/step - accuracy: 0.9479 - loss: 0.1331 - val_accuracy: 0.9614 - val_loss: 0.1177\n",
            "Epoch 26/30\n",
            "2407/2407 - 41s - 17ms/step - accuracy: 0.9488 - loss: 0.1298 - val_accuracy: 0.9524 - val_loss: 0.1404\n",
            "Epoch 27/30\n",
            "2407/2407 - 30s - 12ms/step - accuracy: 0.9507 - loss: 0.1249 - val_accuracy: 0.9755 - val_loss: 0.0878\n",
            "Epoch 28/30\n",
            "2407/2407 - 41s - 17ms/step - accuracy: 0.9520 - loss: 0.1218 - val_accuracy: 0.9463 - val_loss: 0.1665\n",
            "Epoch 29/30\n",
            "2407/2407 - 41s - 17ms/step - accuracy: 0.9533 - loss: 0.1184 - val_accuracy: 0.9480 - val_loss: 0.1564\n",
            "Epoch 30/30\n",
            "2407/2407 - 41s - 17ms/step - accuracy: 0.9545 - loss: 0.1155 - val_accuracy: 0.9618 - val_loss: 0.1093\n"
          ]
        },
        {
          "data": {
            "text/plain": [
              "30"
            ]
          },
          "execution_count": 31,
          "metadata": {},
          "output_type": "execute_result"
        }
      ],
      "source": [
        "\n",
        "\n",
        "\n",
        "input_layer = Input(shape=(X_train_scaled.shape[1], X_train_scaled.shape[2]))\n",
        "\n",
        "\n",
        "gru_out = GRU(100, return_sequences=True)(input_layer)\n",
        "\n",
        "\n",
        "attention = Dense(1, activation=\"tanh\")(gru_out)  # Scores d'attention\n",
        "attention = Softmax(axis=1)(attention)           # Normalisation des scores\n",
        "context_vector = Multiply()([gru_out, attention])  # Appliquer les poids\n",
        "context_vector = Lambda(lambda x: K.sum(x, axis=1))(context_vector)  # Somme pondérée sur les pas de temps\n",
        "\n",
        "\n",
        "output_layer = Dense(5, activation=\"softmax\")(context_vector)\n",
        "\n",
        "\n",
        "model = Model(inputs=input_layer, outputs=output_layer)\n",
        "\n",
        "\n",
        "model.compile(optimizer=keras.optimizers.Adam(learning_rate=0.0001), loss=\"sparse_categorical_crossentropy\", metrics=[\"accuracy\"])\n",
        "\n",
        "\n",
        "callback = keras.callbacks.EarlyStopping(monitor=\"loss\", patience=3)\n",
        "history = model.fit(\n",
        "    X_train_scaled,\n",
        "    y_train,\n",
        "    validation_split=0.15,\n",
        "    epochs=30,\n",
        "    batch_size=128,\n",
        "    verbose=2,\n",
        "    callbacks=[callback],\n",
        ")\n",
        "\n",
        "len(history.history[\"loss\"])\n"
      ]
    },
    {
      "cell_type": "code",
      "execution_count": null,
      "metadata": {
        "id": "I19nyFWFcvtA"
      },
      "outputs": [],
      "source": []
    }
  ],
  "metadata": {
    "accelerator": "GPU",
    "colab": {
      "gpuType": "T4",
      "toc_visible": true,
      "provenance": []
    },
    "kernelspec": {
      "display_name": "Python 3",
      "name": "python3"
    },
    "language_info": {
      "name": "python"
    }
  },
  "nbformat": 4,
  "nbformat_minor": 0
}